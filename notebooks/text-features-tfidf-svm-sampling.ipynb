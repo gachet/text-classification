{
 "cells": [
  {
   "cell_type": "markdown",
   "metadata": {},
   "source": [
    "## Imports"
   ]
  },
  {
   "cell_type": "code",
   "execution_count": 1,
   "metadata": {
    "collapsed": false
   },
   "outputs": [],
   "source": [
    "%matplotlib inline\n",
    "\n",
    "import re\n",
    "\n",
    "import numpy as np\n",
    "import pandas as pd\n",
    "import matplotlib.pyplot as plt\n",
    "from nltk.corpus import stopwords\n",
    "from nltk.tokenize import regexp_tokenize\n",
    "from nltk.stem.porter import PorterStemmer\n",
    "from sklearn import cross_validation\n",
    "from sklearn.feature_extraction.text import TfidfVectorizer\n",
    "from sklearn.svm import LinearSVC\n",
    "from sklearn.metrics import accuracy_score"
   ]
  },
  {
   "cell_type": "code",
   "execution_count": 2,
   "metadata": {
    "collapsed": true
   },
   "outputs": [],
   "source": [
    "plt.style.use('ggplot')"
   ]
  },
  {
   "cell_type": "markdown",
   "metadata": {},
   "source": [
    "## Functions"
   ]
  },
  {
   "cell_type": "code",
   "execution_count": 3,
   "metadata": {
    "collapsed": true
   },
   "outputs": [],
   "source": [
    "def sample(training, n=1000, include_cats=[2, 3, 4, 5, 6, 7], random_state=1868):\n",
    "    subset = training[training.Category.isin(include_cats)]\n",
    "    sample = subset.sample(n, random_state=random_state)\n",
    "    return sample"
   ]
  },
  {
   "cell_type": "code",
   "execution_count": 4,
   "metadata": {
    "collapsed": true
   },
   "outputs": [],
   "source": [
    "def clean_text(df, col):\n",
    "    \"\"\"A function for keeping only alpha-numeric\n",
    "    characters and replacing all white space with\n",
    "    a single space.\n",
    "    \"\"\"\n",
    "    df = df.copy()\n",
    "    porter_stemmer = PorterStemmer()\n",
    "    return df[col].apply(lambda x: re.sub('[^A-Za-z0-9]+', ' ', x.lower()))\\\n",
    "                  .apply(lambda x: re.sub('\\s+', ' ', x).strip())"
   ]
  },
  {
   "cell_type": "code",
   "execution_count": 5,
   "metadata": {
    "collapsed": true
   },
   "outputs": [],
   "source": [
    "def count_pattern(df, col, pattern):\n",
    "    \"\"\"Count the occurrences of `pattern`\n",
    "    in df[col].\n",
    "    \"\"\"\n",
    "    df = df.copy()\n",
    "    return df[col].str.count(pattern)"
   ]
  },
  {
   "cell_type": "code",
   "execution_count": 6,
   "metadata": {
    "collapsed": true
   },
   "outputs": [],
   "source": [
    "def split_on_word(text):\n",
    "    \"\"\"Use regular expression tokenizer.\n",
    "    Keep apostrophes.\n",
    "    Returns a list of lists, one list for each sentence:\n",
    "        [[word, word], [word, word, ..., word], ...].\n",
    "    \"\"\"\n",
    "    if type(text) is list:\n",
    "        return [regexp_tokenize(sentence, pattern=\"\\w+(?:[-']\\w+)*\") for sentence in text]\n",
    "    else:\n",
    "        return regexp_tokenize(text, pattern=\"\\w+(?:[-']\\w+)*\")"
   ]
  },
  {
   "cell_type": "code",
   "execution_count": 7,
   "metadata": {
    "collapsed": true
   },
   "outputs": [],
   "source": [
    "def normalize(tokenized_words):\n",
    "    \"\"\"Removes stop words, numbers, short words, and lowercases text.\n",
    "    Returns a list of lists, one list for each sentence:\n",
    "        [[word, word], [word, word, ..., word], ...].\n",
    "    \"\"\"\n",
    "    stop_words = stopwords.words('english')\n",
    "    return [[w.lower() for w in sent\n",
    "             if (w.lower() not in stop_words)]\n",
    "            for sent in tokenized_words]"
   ]
  },
  {
   "cell_type": "code",
   "execution_count": 8,
   "metadata": {
    "collapsed": false
   },
   "outputs": [],
   "source": [
    "def features(df):\n",
    "    df = df.copy()\n",
    "    df['n_questionmarks'] = count_pattern(df, 'Text', '\\?')\n",
    "    df['n_periods'] = count_pattern(df, 'Text', '\\.')\n",
    "    df['n_apostrophes'] = count_pattern(df, 'Text', '\\'')\n",
    "    df['first_word'] = df.text_clean.apply(lambda x: split_on_word(x)[0])\n",
    "    question_words = ['what', 'how', 'why', 'is']\n",
    "    for w in question_words:\n",
    "        col_wc = 'n_' + w\n",
    "        col_fw = 'fw_' + w\n",
    "        df[col_wc] = count_pattern(df, 'text_clean', w)\n",
    "        df[col_fw] = (df.first_word == w) * 1\n",
    "        \n",
    "    del df['first_word']\n",
    "    \n",
    "    df['n_words'] = df.Text.apply(lambda x: len(split_on_word(x)))\n",
    "    return df"
   ]
  },
  {
   "cell_type": "code",
   "execution_count": 9,
   "metadata": {
    "collapsed": true
   },
   "outputs": [],
   "source": [
    "def flatten_words(list1d, get_unique=False):\n",
    "    qa = [s.split() for s in list1d]\n",
    "    if get_unique:\n",
    "        return sorted(list(set([w for sent in qa for w in sent])))\n",
    "    else:\n",
    "        return [w for sent in qa for w in sent]"
   ]
  },
  {
   "cell_type": "code",
   "execution_count": 10,
   "metadata": {
    "collapsed": false
   },
   "outputs": [],
   "source": [
    "def tfidf_matrices(tr, te, col='text_clean'):\n",
    "    \"\"\"Returns tfidf matrices for both the\n",
    "    training and test DataFrames.\n",
    "    The matrices will have the same number of\n",
    "    columns, which represent unique words, but\n",
    "    not the same number of rows, which represent\n",
    "    samples.\n",
    "    \"\"\"\n",
    "    tr = tr.copy()\n",
    "    te = te.copy()\n",
    "    text = tr[col].values.tolist() + te[col].values.tolist()\n",
    "    vocab = flatten_words(text, get_unique=True)\n",
    "    tfidf = TfidfVectorizer(stop_words='english', vocabulary=vocab)\n",
    "    tr_matrix = tfidf.fit_transform(tr.text_clean)\n",
    "    te_matrix = tfidf.fit_transform(te.text_clean)\n",
    "    return tr_matrix, te_matrix"
   ]
  },
  {
   "cell_type": "code",
   "execution_count": 11,
   "metadata": {
    "collapsed": true
   },
   "outputs": [],
   "source": [
    "def concat_tfidf(df, matrix):\n",
    "    df = df.copy()\n",
    "    df = pd.concat([df, pd.DataFrame(matrix.todense())], axis=1)\n",
    "    return df"
   ]
  },
  {
   "cell_type": "code",
   "execution_count": 12,
   "metadata": {
    "collapsed": true
   },
   "outputs": [],
   "source": [
    "def jitter(values, sd=0.25):\n",
    "    return [np.random.normal(v, sd) for v in values]"
   ]
  },
  {
   "cell_type": "markdown",
   "metadata": {},
   "source": [
    "## Data"
   ]
  },
  {
   "cell_type": "markdown",
   "metadata": {},
   "source": [
    "### Load"
   ]
  },
  {
   "cell_type": "code",
   "execution_count": 13,
   "metadata": {
    "collapsed": false
   },
   "outputs": [],
   "source": [
    "training = pd.read_csv('../data/newtrain.csv')"
   ]
  },
  {
   "cell_type": "code",
   "execution_count": 14,
   "metadata": {
    "collapsed": true
   },
   "outputs": [],
   "source": [
    "training = training.append(sample(training))"
   ]
  },
  {
   "cell_type": "code",
   "execution_count": 15,
   "metadata": {
    "collapsed": true
   },
   "outputs": [],
   "source": [
    "training.reset_index(drop=True, inplace=True)"
   ]
  },
  {
   "cell_type": "code",
   "execution_count": 16,
   "metadata": {
    "collapsed": false
   },
   "outputs": [
    {
     "data": {
      "text/plain": [
       "1    769\n",
       "2    681\n",
       "3    611\n",
       "4    538\n",
       "5    374\n",
       "7    372\n",
       "6    353\n",
       "dtype: int64"
      ]
     },
     "execution_count": 16,
     "metadata": {},
     "output_type": "execute_result"
    }
   ],
   "source": [
    "training.Category.value_counts()"
   ]
  },
  {
   "cell_type": "code",
   "execution_count": 17,
   "metadata": {
    "collapsed": true
   },
   "outputs": [],
   "source": [
    "test = pd.read_csv('../data/newtest.csv')"
   ]
  },
  {
   "cell_type": "markdown",
   "metadata": {},
   "source": [
    "### Clean"
   ]
  },
  {
   "cell_type": "markdown",
   "metadata": {},
   "source": [
    "Remove non-alpha numeric characters and extra whitespace."
   ]
  },
  {
   "cell_type": "code",
   "execution_count": 18,
   "metadata": {
    "collapsed": false
   },
   "outputs": [],
   "source": [
    "training['text_clean'] = clean_text(training, 'Text')"
   ]
  },
  {
   "cell_type": "code",
   "execution_count": 19,
   "metadata": {
    "collapsed": false
   },
   "outputs": [],
   "source": [
    "test['text_clean'] = clean_text(test, 'Text')"
   ]
  },
  {
   "cell_type": "markdown",
   "metadata": {},
   "source": [
    "### Features"
   ]
  },
  {
   "cell_type": "code",
   "execution_count": 20,
   "metadata": {
    "collapsed": true
   },
   "outputs": [],
   "source": [
    "training = features(training)\n",
    "test = features(test)"
   ]
  },
  {
   "cell_type": "markdown",
   "metadata": {},
   "source": [
    "### Split the Training Data"
   ]
  },
  {
   "cell_type": "code",
   "execution_count": 21,
   "metadata": {
    "collapsed": true
   },
   "outputs": [],
   "source": [
    "train, dev = cross_validation.train_test_split(training, test_size=0.2, random_state=1868)\n",
    "train.reset_index(drop=True, inplace=True)\n",
    "dev.reset_index(drop=True, inplace=True)"
   ]
  },
  {
   "cell_type": "markdown",
   "metadata": {},
   "source": [
    "### tfidf"
   ]
  },
  {
   "cell_type": "code",
   "execution_count": 22,
   "metadata": {
    "collapsed": true
   },
   "outputs": [],
   "source": [
    "train_matrix, dev_matrix = tfidf_matrices(train, dev)"
   ]
  },
  {
   "cell_type": "markdown",
   "metadata": {},
   "source": [
    "### Combine"
   ]
  },
  {
   "cell_type": "code",
   "execution_count": 23,
   "metadata": {
    "collapsed": true
   },
   "outputs": [],
   "source": [
    "train = concat_tfidf(train, train_matrix)"
   ]
  },
  {
   "cell_type": "code",
   "execution_count": 24,
   "metadata": {
    "collapsed": true
   },
   "outputs": [],
   "source": [
    "dev = concat_tfidf(dev, dev_matrix)"
   ]
  },
  {
   "cell_type": "markdown",
   "metadata": {},
   "source": [
    "## Training"
   ]
  },
  {
   "cell_type": "code",
   "execution_count": 25,
   "metadata": {
    "collapsed": true
   },
   "outputs": [],
   "source": [
    "svm = LinearSVC(dual=False, max_iter=5000)"
   ]
  },
  {
   "cell_type": "code",
   "execution_count": 26,
   "metadata": {
    "collapsed": true
   },
   "outputs": [],
   "source": [
    "features = train.columns[3:]"
   ]
  },
  {
   "cell_type": "code",
   "execution_count": 27,
   "metadata": {
    "collapsed": false
   },
   "outputs": [],
   "source": [
    "X = train[features].values\n",
    "y = train['Category'].values"
   ]
  },
  {
   "cell_type": "code",
   "execution_count": 28,
   "metadata": {
    "collapsed": false
   },
   "outputs": [],
   "source": [
    "features_dev = dev[features].values"
   ]
  },
  {
   "cell_type": "markdown",
   "metadata": {},
   "source": [
    "### Cross Validation"
   ]
  },
  {
   "cell_type": "code",
   "execution_count": 29,
   "metadata": {
    "collapsed": true
   },
   "outputs": [],
   "source": [
    "kf = cross_validation.KFold(n=len(train), n_folds=5)"
   ]
  },
  {
   "cell_type": "code",
   "execution_count": 30,
   "metadata": {
    "collapsed": false
   },
   "outputs": [
    {
     "name": "stdout",
     "output_type": "stream",
     "text": [
      "0.703840833219 SVM\n"
     ]
    }
   ],
   "source": [
    "for clf, label in zip([svm],\n",
    "                      ['SVM']):\n",
    "    print(np.array([clf.fit(X[tr], y[tr]).score(X[te], y[te]) for tr, te in kf]).mean(), label)"
   ]
  },
  {
   "cell_type": "markdown",
   "metadata": {},
   "source": [
    "## Testing on `dev`"
   ]
  },
  {
   "cell_type": "markdown",
   "metadata": {},
   "source": [
    "### SVM"
   ]
  },
  {
   "cell_type": "code",
   "execution_count": 31,
   "metadata": {
    "collapsed": false
   },
   "outputs": [],
   "source": [
    "svm.fit(X, y)\n",
    "dev_predicted = svm.predict(features_dev)"
   ]
  },
  {
   "cell_type": "code",
   "execution_count": 32,
   "metadata": {
    "collapsed": false
   },
   "outputs": [
    {
     "data": {
      "text/plain": [
       "0.74054054054054053"
      ]
     },
     "execution_count": 32,
     "metadata": {},
     "output_type": "execute_result"
    }
   ],
   "source": [
    "accuracy_score(dev.Category, dev_predicted)"
   ]
  },
  {
   "cell_type": "code",
   "execution_count": 33,
   "metadata": {
    "collapsed": false
   },
   "outputs": [
    {
     "data": {
      "text/plain": [
       "<matplotlib.text.Text at 0x113bc4160>"
      ]
     },
     "execution_count": 33,
     "metadata": {},
     "output_type": "execute_result"
    },
    {
     "data": {
      "image/png": "[encoded data removed]",
      "text/plain": [
       "<matplotlib.figure.Figure at 0x1137db240>"
      ]
     },
     "metadata": {},
     "output_type": "display_data"
    }
   ],
   "source": [
    "plt.figure(figsize=(5, 4))\n",
    "\n",
    "plt.scatter(jitter(dev.Category, 0.15),\n",
    "            jitter(dev_predicted, 0.15),\n",
    "            color='#348ABD', alpha=0.25)\n",
    "\n",
    "plt.xlabel('Ground Truth')\n",
    "plt.ylabel('Predicted')"
   ]
  },
  {
   "cell_type": "markdown",
   "metadata": {},
   "source": [
    "## Testing"
   ]
  },
  {
   "cell_type": "code",
   "execution_count": 34,
   "metadata": {
    "collapsed": true
   },
   "outputs": [],
   "source": [
    "training_matrix, test_matrix = tfidf_matrices(training, test)"
   ]
  },
  {
   "cell_type": "code",
   "execution_count": 35,
   "metadata": {
    "collapsed": true
   },
   "outputs": [],
   "source": [
    "training = concat_tfidf(training, training_matrix)\n",
    "test = concat_tfidf(test, test_matrix)"
   ]
  },
  {
   "cell_type": "code",
   "execution_count": 36,
   "metadata": {
    "collapsed": true
   },
   "outputs": [],
   "source": [
    "features = training.columns[3:]"
   ]
  },
  {
   "cell_type": "code",
   "execution_count": 37,
   "metadata": {
    "collapsed": true
   },
   "outputs": [],
   "source": [
    "X = training[features].values\n",
    "y = training['Category'].values"
   ]
  },
  {
   "cell_type": "code",
   "execution_count": 38,
   "metadata": {
    "collapsed": false
   },
   "outputs": [],
   "source": [
    "features_test = test[features].values"
   ]
  },
  {
   "cell_type": "code",
   "execution_count": 39,
   "metadata": {
    "collapsed": true
   },
   "outputs": [],
   "source": [
    "svm.fit(X, y)\n",
    "test_predicted = svm.predict(features_test)"
   ]
  },
  {
   "cell_type": "code",
   "execution_count": 40,
   "metadata": {
    "collapsed": true
   },
   "outputs": [],
   "source": [
    "test['Category'] = test_predicted"
   ]
  },
  {
   "cell_type": "code",
   "execution_count": 41,
   "metadata": {
    "collapsed": false
   },
   "outputs": [],
   "source": [
    "output = test[['Id', 'Category']]"
   ]
  },
  {
   "cell_type": "code",
   "execution_count": 42,
   "metadata": {
    "collapsed": true
   },
   "outputs": [],
   "source": [
    "# output.to_csv('../data/solutionXX.csv', index=False)"
   ]
  }
 ],
 "metadata": {
  "kernelspec": {
   "display_name": "Python 3",
   "language": "python",
   "name": "python3"
  },
  "language_info": {
   "codemirror_mode": {
    "name": "ipython",
    "version": 3
   },
   "file_extension": ".py",
   "mimetype": "text/x-python",
   "name": "python",
   "nbconvert_exporter": "python",
   "pygments_lexer": "ipython3",
   "version": "3.4.2"
  }
 },
 "nbformat": 4,
 "nbformat_minor": 0
}
