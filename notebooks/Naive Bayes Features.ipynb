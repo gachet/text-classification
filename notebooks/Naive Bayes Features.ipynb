{
 "cells": [
  {
   "cell_type": "code",
   "execution_count": 126,
   "metadata": {
    "collapsed": true
   },
   "outputs": [],
   "source": [
    "import re\n",
    "import numpy as np\n",
    "import pandas as pd\n",
    "import nltk\n",
    "import matplotlib.pyplot as plt\n",
    "from nltk.corpus import stopwords\n",
    "from sklearn.feature_extraction.text import TfidfVectorizer\n",
    "from sklearn.metrics.pairwise import cosine_similarity\n",
    "from sklearn.metrics import accuracy_score\n",
    "stopwords = stopwords.words('english')\n",
    "from sklearn.naive_bayes import MultinomialNB\n",
    "nb = MultinomialNB()"
   ]
  },
  {
   "cell_type": "code",
   "execution_count": 107,
   "metadata": {
    "collapsed": true
   },
   "outputs": [],
   "source": [
    "df = pd.read_csv('../data/newtrain.csv')"
   ]
  },
  {
   "cell_type": "code",
   "execution_count": 108,
   "metadata": {
    "collapsed": false
   },
   "outputs": [
    {
     "data": {
      "text/html": [
       "<div>\n",
       "<table border=\"1\" class=\"dataframe\">\n",
       "  <thead>\n",
       "    <tr style=\"text-align: right;\">\n",
       "      <th></th>\n",
       "      <th>Category</th>\n",
       "      <th>Text</th>\n",
       "    </tr>\n",
       "  </thead>\n",
       "  <tbody>\n",
       "    <tr>\n",
       "      <th>0</th>\n",
       "      <td>5</td>\n",
       "      <td>why are yawns contagious? when people yawn</td>\n",
       "    </tr>\n",
       "    <tr>\n",
       "      <th>1</th>\n",
       "      <td>6</td>\n",
       "      <td>what is trans fat? how to reduce that? i heard...</td>\n",
       "    </tr>\n",
       "    <tr>\n",
       "      <th>2</th>\n",
       "      <td>1</td>\n",
       "      <td>roth ira vs 401k? what is the difference betwe...</td>\n",
       "    </tr>\n",
       "    <tr>\n",
       "      <th>3</th>\n",
       "      <td>1</td>\n",
       "      <td>how many planes fedex has? i heard that it is ...</td>\n",
       "    </tr>\n",
       "    <tr>\n",
       "      <th>4</th>\n",
       "      <td>2</td>\n",
       "      <td>what is the best photo slideshow creation appl...</td>\n",
       "    </tr>\n",
       "  </tbody>\n",
       "</table>\n",
       "</div>"
      ],
      "text/plain": [
       "   Category                                               Text\n",
       "0         5         why are yawns contagious? when people yawn\n",
       "1         6  what is trans fat? how to reduce that? i heard...\n",
       "2         1  roth ira vs 401k? what is the difference betwe...\n",
       "3         1  how many planes fedex has? i heard that it is ...\n",
       "4         2  what is the best photo slideshow creation appl..."
      ]
     },
     "execution_count": 108,
     "metadata": {},
     "output_type": "execute_result"
    }
   ],
   "source": [
    "df.head()"
   ]
  },
  {
   "cell_type": "code",
   "execution_count": 109,
   "metadata": {
    "collapsed": false
   },
   "outputs": [],
   "source": [
    "random_index = np.random.permutation(df.index)"
   ]
  },
  {
   "cell_type": "code",
   "execution_count": 110,
   "metadata": {
    "collapsed": false
   },
   "outputs": [],
   "source": [
    "df_shuffled = df.ix[random_index]"
   ]
  },
  {
   "cell_type": "code",
   "execution_count": 111,
   "metadata": {
    "collapsed": false
   },
   "outputs": [
    {
     "data": {
      "text/html": [
       "<div>\n",
       "<table border=\"1\" class=\"dataframe\">\n",
       "  <thead>\n",
       "    <tr style=\"text-align: right;\">\n",
       "      <th></th>\n",
       "      <th>Category</th>\n",
       "      <th>Text</th>\n",
       "    </tr>\n",
       "  </thead>\n",
       "  <tbody>\n",
       "    <tr>\n",
       "      <th>0</th>\n",
       "      <td>2</td>\n",
       "      <td>how do i run a ruby program on winxp (i have r...</td>\n",
       "    </tr>\n",
       "    <tr>\n",
       "      <th>1</th>\n",
       "      <td>5</td>\n",
       "      <td>what do you call the 4-stringed hawaiian instr...</td>\n",
       "    </tr>\n",
       "    <tr>\n",
       "      <th>2</th>\n",
       "      <td>3</td>\n",
       "      <td>when will undertaker of wwe ..........will rea...</td>\n",
       "    </tr>\n",
       "    <tr>\n",
       "      <th>3</th>\n",
       "      <td>1</td>\n",
       "      <td>do space heaters really save money? instead of...</td>\n",
       "    </tr>\n",
       "    <tr>\n",
       "      <th>4</th>\n",
       "      <td>3</td>\n",
       "      <td>red hot chilli peppers vs foo fighters? whom d...</td>\n",
       "    </tr>\n",
       "  </tbody>\n",
       "</table>\n",
       "</div>"
      ],
      "text/plain": [
       "   Category                                               Text\n",
       "0         2  how do i run a ruby program on winxp (i have r...\n",
       "1         5  what do you call the 4-stringed hawaiian instr...\n",
       "2         3  when will undertaker of wwe ..........will rea...\n",
       "3         1  do space heaters really save money? instead of...\n",
       "4         3  red hot chilli peppers vs foo fighters? whom d..."
      ]
     },
     "execution_count": 111,
     "metadata": {},
     "output_type": "execute_result"
    }
   ],
   "source": [
    "df_shuffled.reset_index(drop=True, inplace=True)\n",
    "df_shuffled[:5]"
   ]
  },
  {
   "cell_type": "code",
   "execution_count": 112,
   "metadata": {
    "collapsed": true
   },
   "outputs": [],
   "source": [
    "rows, columns = df_shuffled.shape\n",
    "train_size = round(rows*.8)\n",
    "dev_size   = round(rows*.2)"
   ]
  },
  {
   "cell_type": "code",
   "execution_count": 115,
   "metadata": {
    "collapsed": false
   },
   "outputs": [],
   "source": [
    "df_train = df_shuffled.loc[:train_size]\n",
    "df_dev = df_shuffled.loc[train_size:dev_size+train_size].reset_index(drop=True)"
   ]
  },
  {
   "cell_type": "code",
   "execution_count": 116,
   "metadata": {
    "collapsed": false
   },
   "outputs": [],
   "source": [
    "df['text_clean'] = df['Text'].apply(lambda x: re.sub('[^A-Za-z0-9]+', ' ', x.lower()))\\\n",
    "                             .apply(lambda x: re.sub('\\s+', ' ', x).strip())"
   ]
  },
  {
   "cell_type": "code",
   "execution_count": 117,
   "metadata": {
    "collapsed": true
   },
   "outputs": [],
   "source": [
    "def flatten_words(list1d, get_unique=False):\n",
    "    qa = [s.split() for s in list1d]\n",
    "    if get_unique:\n",
    "        return sorted(list(set([w for sent in qa for w in sent])))\n",
    "    else:\n",
    "        return [w for sent in qa for w in sent]"
   ]
  },
  {
   "cell_type": "code",
   "execution_count": 118,
   "metadata": {
    "collapsed": false
   },
   "outputs": [
    {
     "data": {
      "text/plain": [
       "['why',\n",
       " 'are',\n",
       " 'yawns',\n",
       " 'contagious',\n",
       " 'when',\n",
       " 'people',\n",
       " 'yawn',\n",
       " 'what',\n",
       " 'is',\n",
       " 'trans']"
      ]
     },
     "execution_count": 118,
     "metadata": {},
     "output_type": "execute_result"
    }
   ],
   "source": [
    "words = flatten_words(df.text_clean.values)\n",
    "words[0:10]"
   ]
  },
  {
   "cell_type": "code",
   "execution_count": 119,
   "metadata": {
    "collapsed": true
   },
   "outputs": [],
   "source": [
    "def unigram_feature(x, unigram):\n",
    "    word_list = x.lower().split(\" \")\n",
    "    return word_list.count(unigram)\n",
    "\n",
    "def bigram_feature(x, bigram):\n",
    "    bigram_tuple = tuple(bigram.split())\n",
    "    word_list = x.lower().split(\" \")\n",
    "    bi = nltk.FreqDist(nltk.bigrams(word_list))\n",
    "    return bi[bigram_tuple]"
   ]
  },
  {
   "cell_type": "code",
   "execution_count": 120,
   "metadata": {
    "collapsed": true
   },
   "outputs": [],
   "source": [
    "df_ql = df.copy()\n",
    "df_ql = df_ql[['Category', 'text_clean']]"
   ]
  },
  {
   "cell_type": "code",
   "execution_count": 35,
   "metadata": {
    "collapsed": true
   },
   "outputs": [],
   "source": [
    "df_ql['all_questions'] = df_ql.apply(lambda row:\n",
    "                                     df.groupby('Category').get_group(row['Category'])['text_clean'].tolist(),\n",
    "                                     axis=1)"
   ]
  },
  {
   "cell_type": "code",
   "execution_count": 37,
   "metadata": {
    "collapsed": false
   },
   "outputs": [],
   "source": [
    "df_ql.drop_duplicates(subset='Category', inplace=True)\n",
    "df_ql.sort(columns='Category', inplace=True)\n",
    "df_ql.reset_index(drop=True, inplace=True)"
   ]
  },
  {
   "cell_type": "code",
   "execution_count": 65,
   "metadata": {
    "collapsed": true
   },
   "outputs": [],
   "source": [
    "def get_norm_words(collection):\n",
    "    pattern = r'''(?x)    \n",
    "         ([A-Z]\\.)+        \n",
    "       | \\w+        \n",
    "       | \\$?\\d+(\\.\\d+)?%?  \n",
    "       | \\.\\.\\.            \n",
    "     '''\n",
    "    tokens = nltk.regexp_tokenize(collection, pattern)\n",
    "    collection_words = [w.lower() for w in tokens if w.lower() not in stopwords and len(w) > 3 ]\n",
    "    return collection_words"
   ]
  },
  {
   "cell_type": "code",
   "execution_count": 82,
   "metadata": {
    "collapsed": false
   },
   "outputs": [],
   "source": [
    "df_ql.all_questions[0]\n",
    "category1_questions = [q for q in df_ql.all_questions[0]]\n",
    "category2_questions = [q for q in df_ql.all_questions[1]]\n",
    "category3_questions = [q for q in df_ql.all_questions[2]]\n",
    "category4_questions = [q for q in df_ql.all_questions[3]]\n",
    "category5_questions = [q for q in df_ql.all_questions[4]]\n",
    "category6_questions = [q for q in df_ql.all_questions[5]]\n",
    "category7_questions = [q for q in df_ql.all_questions[6]]"
   ]
  },
  {
   "cell_type": "code",
   "execution_count": 86,
   "metadata": {
    "collapsed": false
   },
   "outputs": [],
   "source": [
    "category1_words = []\n",
    "for i in range(len(category1_questions)):\n",
    "    category1_words += get_norm_words(category1_questions[i])\n",
    "category2_words = []\n",
    "for i in range(len(category2_questions)):\n",
    "    category2_words += get_norm_words(category2_questions[i])\n",
    "category3_words = []\n",
    "for i in range(len(category3_questions)):\n",
    "    category3_words += get_norm_words(category1_questions[i])\n",
    "category4_words = []\n",
    "for i in range(len(category4_questions)):\n",
    "    category4_words += get_norm_words(category4_questions[i])\n",
    "category5_words = []\n",
    "for i in range(len(category5_questions)):\n",
    "    category5_words += get_norm_words(category5_questions[i])\n",
    "category6_words = []\n",
    "for i in range(len(category6_questions)):\n",
    "    category6_words += get_norm_words(category6_questions[i])\n",
    "category7_words = []\n",
    "for i in range(len(category7_questions)):\n",
    "    category7_words += get_norm_words(category7_questions[i])"
   ]
  },
  {
   "cell_type": "code",
   "execution_count": 78,
   "metadata": {
    "collapsed": true
   },
   "outputs": [],
   "source": [
    "def norm_unigram_fd(collection_words):\n",
    "    fd_collection = nltk.FreqDist(collection_words) \n",
    "    fd = nltk.FreqDist(words) \n",
    "    fd_norm = fd_collection.copy()\n",
    "    for w in fd_collection.keys():\n",
    "        fd_norm[w] = (float(fd_collection[w]) / (1+ fd[w]))\n",
    "    return fd_norm"
   ]
  },
  {
   "cell_type": "code",
   "execution_count": 93,
   "metadata": {
    "collapsed": false
   },
   "outputs": [],
   "source": [
    "fd1 = norm_unigram_fd(category1_words)\n",
    "fd2 = norm_unigram_fd(category2_words)\n",
    "fd3 = norm_unigram_fd(category3_words)\n",
    "fd4 = norm_unigram_fd(category4_words)\n",
    "fd5 = norm_unigram_fd(category5_words)\n",
    "fd6 = norm_unigram_fd(category6_words)\n",
    "fd7 = norm_unigram_fd(category7_words)"
   ]
  },
  {
   "cell_type": "code",
   "execution_count": 97,
   "metadata": {
    "collapsed": false
   },
   "outputs": [
    {
     "data": {
      "text/plain": [
       "'dipole'"
      ]
     },
     "execution_count": 97,
     "metadata": {},
     "output_type": "execute_result"
    }
   ],
   "source": [
    "fd7.max()"
   ]
  },
  {
   "cell_type": "code",
   "execution_count": 100,
   "metadata": {
    "collapsed": false
   },
   "outputs": [],
   "source": [
    "train_fd1_feature = df_train['Text'].apply(lambda x: unigram_feature(x, (fd1.max())))\n",
    "train_fd2_feature = df_train['Text'].apply(lambda x: unigram_feature(x, (fd2.max())))\n",
    "train_fd3_feature = df_train['Text'].apply(lambda x: unigram_feature(x, (fd3.max())))\n",
    "train_fd4_feature = df_train['Text'].apply(lambda x: unigram_feature(x, (fd4.max())))\n",
    "train_fd5_feature = df_train['Text'].apply(lambda x: unigram_feature(x, (fd5.max())))\n",
    "train_fd6_feature = df_train['Text'].apply(lambda x: unigram_feature(x, (fd6.max())))\n",
    "train_fd7_feature = df_train['Text'].apply(lambda x: unigram_feature(x, (fd7.max())))"
   ]
  },
  {
   "cell_type": "code",
   "execution_count": 102,
   "metadata": {
    "collapsed": false
   },
   "outputs": [],
   "source": [
    "df_train_features = pd.DataFrame({'fd1': train_fd1_feature, \n",
    "                                  'fd2': train_fd2_feature, \n",
    "                                  'fd3': train_fd3_feature,\n",
    "                                  'fd4': train_fd4_feature, \n",
    "                                  'fd5': train_fd5_feature, \n",
    "                                  'fd6': train_fd6_feature,\n",
    "                                  'fd7': train_fd7_feature})"
   ]
  },
  {
   "cell_type": "code",
   "execution_count": 122,
   "metadata": {
    "collapsed": false
   },
   "outputs": [],
   "source": [
    "dev_fd1_feature = df_dev['Text'].apply(lambda x: unigram_feature(x, (fd1.max())))\n",
    "dev_fd2_feature = df_dev['Text'].apply(lambda x: unigram_feature(x, (fd2.max())))\n",
    "dev_fd3_feature = df_dev['Text'].apply(lambda x: unigram_feature(x, (fd3.max())))\n",
    "dev_fd4_feature = df_dev['Text'].apply(lambda x: unigram_feature(x, (fd4.max())))\n",
    "dev_fd5_feature = df_dev['Text'].apply(lambda x: unigram_feature(x, (fd5.max())))\n",
    "dev_fd6_feature = df_dev['Text'].apply(lambda x: unigram_feature(x, (fd6.max())))\n",
    "dev_fd7_feature = df_dev['Text'].apply(lambda x: unigram_feature(x, (fd7.max())))\n",
    "df_dev_features = pd.DataFrame({'fd1': dev_fd1_feature, \n",
    "                                  'fd2': dev_fd2_feature, \n",
    "                                  'fd3': dev_fd3_feature,\n",
    "                                  'fd4': dev_fd4_feature, \n",
    "                                  'fd5': dev_fd5_feature, \n",
    "                                  'fd6': dev_fd6_feature,\n",
    "                                  'fd7': dev_fd7_feature})"
   ]
  },
  {
   "cell_type": "code",
   "execution_count": 125,
   "metadata": {
    "collapsed": false
   },
   "outputs": [],
   "source": [
    "nb_model = nb.fit(df_train_features, df_train.Category)\n",
    "nb_predictions = nb_model.predict(df_dev_features)"
   ]
  },
  {
   "cell_type": "code",
   "execution_count": 128,
   "metadata": {
    "collapsed": false
   },
   "outputs": [
    {
     "data": {
      "text/plain": [
       "0.28518518518518521"
      ]
     },
     "execution_count": 128,
     "metadata": {},
     "output_type": "execute_result"
    }
   ],
   "source": [
    "accuracy_score(df_dev.Category, nb_predictions)"
   ]
  },
  {
   "cell_type": "code",
   "execution_count": null,
   "metadata": {
    "collapsed": true
   },
   "outputs": [],
   "source": []
  }
 ],
 "metadata": {
  "kernelspec": {
   "display_name": "Python 3",
   "language": "python",
   "name": "python3"
  },
  "language_info": {
   "codemirror_mode": {
    "name": "ipython",
    "version": 3
   },
   "file_extension": ".py",
   "mimetype": "text/x-python",
   "name": "python",
   "nbconvert_exporter": "python",
   "pygments_lexer": "ipython3",
   "version": "3.3.5"
  }
 },
 "nbformat": 4,
 "nbformat_minor": 0
}
