{
 "cells": [
  {
   "cell_type": "markdown",
   "metadata": {},
   "source": [
    "# ANLP 2015 Text Classification Assignment"
   ]
  },
  {
   "cell_type": "markdown",
   "metadata": {},
   "source": [
    "Emily Scharff and Juan Shishido"
   ]
  },
  {
   "cell_type": "markdown",
   "metadata": {},
   "source": [
    "## Write Up"
   ]
  },
  {
   "cell_type": "markdown",
   "metadata": {},
   "source": [
    "### Introduction\n",
    "\n",
    "This notebook contains the code and documentation that we used to obtain our score of **0.58541** on the public leaderboard for the ANLP 2015 Classification Assignment. We describe our text processing, feature engineering, and model selection approaches.\n",
    "\n",
    "### Text Processing\n",
    "\n",
    "The data were loaded into pandas DataFrames. We began plotting the frequency of each category in the training set and noticed that the distribution was not uniform. Category 1, for example, was the most well represented with 769 questions. Category 6, on the other hand, had the least amount of questions&mdash;232. This would prove to be a good insight and we'll describe how we used this to our advantage.\n",
    "\n",
    "In terms of processing the data, our approach was *not* to modify the original text. Rather, we created a new column, `text_clean`, that reflected our changes.\n",
    "\n",
    "While examining the plain-text training data, we noticed sequences of HTML escaped characters, such as `&#xd;&lt;br&gt;`, which we removed with a regular expression. We also remove non-alphanumeric characters and replace whitespace with single spaces.\n",
    "\n",
    "### Features and Models\n",
    "\n",
    "In terms of features, we started simple, using a term-document matrix that only included word frequencies. We also decided to get familiar with a handful of algorithms. We used our word features to train logistic regression and multinomial naive Bayes models. Using Scikit-Learn's `cross_validation` function, we were surprised to find initial scores of around 50% accuracy.\n",
    "\n",
    "From here, we deviated somewhat and tried document similarity. Using the training data, we combined questions, by category. Our thought was to create seven \"documents,\" one for each category, that represented the words used for the corresponding questions. This resulted in a $7 \\times w$ matrix, where $w$ represents the number of unique words *across* documents. This was created using Scikit-Learn's `TfidfVectorizer`. For the test data, the matrix was of dimension $w \\times q$, where $q$ represents the number of questions. Note that $w$ is the same in each of our matrices. This is so that it's possible to perform matrix multiplication. Of course, the `cosine_similarity` function, the metric we decided to use, takes care of some of the implementation details. Our first submission was based on this approach. We then stemmed the words in our corpus, using the Porter Stemmer, and that increased our score slightly.\n",
    "\n",
    "Before proceeding, we decided to use Scikit-Learn's `train_test_split` function to create a development set&mdash;20% of the training data&mdash;on which to test our models. To fit our models, we used the remaining 80% of the original training data.\n",
    "\n",
    "In our next iteration, we went back to experimenting with logistic regression and naive Bayes, but also added a linear support vector classifier. Here, we also started to add features. Because we were fitting a model, we did *not* combine questions by category. Rather, our tfidf feature matrix had a row for each question.\n",
    "\n",
    "We tried many features. We ended up with the following list:\n",
    "\n",
    "* number of question marks\n",
    "* number of periods\n",
    "* number of apostrophes\n",
    "* number of \"the\"s\n",
    "* number of words\n",
    "* number of stop words\n",
    "* number of first person words\n",
    "* number of second person words\n",
    "* number of third person words\n",
    "* indicators for whether the *first* word was in `['what', 'how', 'why', 'is']`\n",
    "\n",
    "#### Other features we tried\n",
    "\n",
    "Unigrams: This feature was used to check for the occurrence of certain unigrams, just as in John's Scikit-Learn notebook. We used it to check for the most frequent words in each category. Using the 500 most frequent words in each category performed the best. However, this performance was outstripped by a simple tfidf and, when combined, only lowered the score.\n",
    "\n",
    "Numeric: The goal of this feature was to check if a certain question used numbers. The idea was that crtain categories, such as math, would use number more frequently than others, such as entertainment. In practice it did not work out that well.\n",
    "\n",
    "Similarity: Here we used WordNet's similarity to see how similar the words in the question were to the question's category. This performed quite poorly. We believe this was due to the fact that the similarity function is not that accurate.\n",
    "\n",
    "POS: We added a feature to count the number of a particular part of speech. We tested it with nouns, verbs, and adjectives. Interestingly the verbs performed the best. However in combination with the other features we chose it seemed to hurt the performance\n",
    "\n",
    "Median length: Without tfidf, including the length of the median word of a question greatly increased the categorization accuracy. However, after using tfidf, the median length only detracted from the score. Because tfidf performed better, we did not include it in the final set of features.\n",
    "\n",
    "Names: This feature checked if a particular question contained a name. This worked better than counting the number of names. This is likely due to a lack of data. Overall, the number of questions with names in the training set is small so you can get better classification by only making the feature return\n",
    "\n",
    "#### Other processing\n",
    "\n",
    "We also stemmed the words prior to passing them through the `TfidfVectorizer`.\n",
    "\n",
    "When we noticed some misspelled words, we tried using Peter Norvig's `correct` function, but it did not improve our accuracy scores.\n",
    "\n",
    "One thing that was helpful was the plots we created when assessing the various models. We plotted the predicted labels against the ground truth. (An example of this in included below.) This helped us see, right away, that the linear SVC was performing best across all the permutations of features we tried. This is how we eventually decided to stick with that algorithm.\n",
    "\n",
    "During one of the iterations, we noticed that the naive Bayes model was incorrectly predicting category 1 for a majority of the data. We remembered the distribution of categories mentioned earlier and decided to sample the *other* categories at higher frequencies. We took the original training data, and then drew a random sample of questions from categories 2 through 7. After some experimentation, we decided to sample an extra 1,200 observations. This strategy helped improve our score.\n",
    "\n",
    "We also spend time examining and analyzing the confidence scores using the `decision_function()` method. The idea here was to see if we could identify patterns in *how* the classifier was incorrectly labeling the development set. Unfortunately, we were not able to use this information to improve our scores.\n",
    "\n",
    "Finally, because of all the testing we had done, we had several results files, which included results we did not submit. With this data, we used a bagging approach&mdash;majority vote&mdash;to get a \"final\" classification on the 1,874 test examples. This, unfortunately, did not improve our score.\n",
    "\n",
    "Our best result on the public leaderboard was from a single linear support vector classifier using tfidf and the features listed above."
   ]
  },
  {
   "cell_type": "markdown",
   "metadata": {},
   "source": [
    "## Code"
   ]
  },
  {
   "cell_type": "markdown",
   "metadata": {
    "collapsed": true
   },
   "source": [
    "### Imports"
   ]
  },
  {
   "cell_type": "code",
   "execution_count": 1,
   "metadata": {
    "collapsed": true
   },
   "outputs": [],
   "source": [
    "%matplotlib inline\n",
    "\n",
    "import re\n",
    "\n",
    "import numpy as np\n",
    "import pandas as pd\n",
    "import matplotlib.pyplot as plt\n",
    "import nltk\n",
    "from nltk.corpus import stopwords\n",
    "from nltk.tokenize import regexp_tokenize\n",
    "from nltk.stem.porter import PorterStemmer\n",
    "from sklearn import cross_validation\n",
    "from sklearn.feature_extraction.text import TfidfVectorizer\n",
    "from sklearn.svm import LinearSVC\n",
    "from sklearn.metrics import accuracy_score"
   ]
  },
  {
   "cell_type": "code",
   "execution_count": 2,
   "metadata": {
    "collapsed": true
   },
   "outputs": [],
   "source": [
    "plt.style.use('ggplot')"
   ]
  },
  {
   "cell_type": "markdown",
   "metadata": {},
   "source": [
    "### Functions"
   ]
  },
  {
   "cell_type": "code",
   "execution_count": 3,
   "metadata": {
    "collapsed": true
   },
   "outputs": [],
   "source": [
    "def sample(df, n=1000, include_cats=[2, 3, 4, 5, 6, 7], random_state=1868):\n",
    "    \"\"\"Take a random sample of size `n` for categories\n",
    "    in `include_cats`.\n",
    "    \"\"\"\n",
    "    df = df.copy()\n",
    "    subset = df[df.Category.isin(include_cats)]\n",
    "    sample = subset.sample(n, random_state=random_state)\n",
    "    return sample\n",
    "\n",
    "def clean_text(df, col):\n",
    "    \"\"\"A function for keeping only alpha-numeric\n",
    "    characters and replacing all white space with\n",
    "    a single space.\n",
    "    \"\"\"\n",
    "    df = df.copy()\n",
    "    porter_stemmer = PorterStemmer()\n",
    "    return df[col].apply(lambda x: re.sub(';br&', ';&', x))\\\n",
    "                  .apply(lambda x: re.sub('&.+?;', '', x))\\\n",
    "                  .apply(lambda x: re.sub('[^A-Za-z0-9]+', ' ', x.lower()))\\\n",
    "                  .apply(lambda x: re.sub('\\s+', ' ', x).strip())\\\n",
    "                  .apply(lambda x: ' '.join([porter_stemmer.stem(w)\n",
    "                                             for w in x.split()]))\n",
    "\n",
    "def count_pattern(df, col, pattern):\n",
    "    \"\"\"Count the occurrences of `pattern`\n",
    "    in df[col].\n",
    "    \"\"\"\n",
    "    df = df.copy()\n",
    "    return df[col].str.count(pattern)\n",
    "\n",
    "def split_on_sentence(text):\n",
    "    \"\"\"Tokenize the text on sentences.\n",
    "    Returns a list of strings (sentences).\n",
    "    \"\"\"\n",
    "    sent_tokenizer = nltk.data.load('tokenizers/punkt/english.pickle')\n",
    "    return sent_tokenizer.tokenize(text)\n",
    "\n",
    "def split_on_word(text):\n",
    "    \"\"\"Use regular expression tokenizer.\n",
    "    Keep apostrophes.\n",
    "    Returns a list of lists, one list for each sentence:\n",
    "        [[word, word], [word, word, ..., word], ...].\n",
    "    \"\"\"\n",
    "    if type(text) is list:\n",
    "        return [regexp_tokenize(sentence, pattern=\"\\w+(?:[-']\\w+)*\")\n",
    "                for sentence in text]\n",
    "    else:\n",
    "        return regexp_tokenize(text, pattern=\"\\w+(?:[-']\\w+)*\")\n",
    "\n",
    "def features(df):\n",
    "    \"\"\"Create the features in the specified DataFrame.\"\"\"\n",
    "    stop_words = stopwords.words('english')\n",
    "    df = df.copy()\n",
    "    df['n_questionmarks'] = count_pattern(df, 'Text', '\\?')\n",
    "    df['n_periods'] = count_pattern(df, 'Text', '\\.')\n",
    "    df['n_apostrophes'] = count_pattern(df, 'Text', '\\'')\n",
    "    df['n_the'] = count_pattern(df, 'Text', 'the ')\n",
    "    \n",
    "    df['first_word'] = df.text_clean.apply(lambda x: split_on_word(x)[0])\n",
    "    question_words = ['what', 'how', 'why', 'is']\n",
    "    for w in question_words:\n",
    "        col_wc = 'n_' + w\n",
    "        col_fw = 'fw_' + w\n",
    "        df[col_fw] = (df.first_word == w) * 1\n",
    "        \n",
    "    del df['first_word']\n",
    "    \n",
    "    df['n_words'] = df.text_clean.apply(lambda x: len(split_on_word(x)))\n",
    "    df['n_stopwords'] = df.text_clean.apply(lambda x:\n",
    "                                            len([w for w in split_on_word(x)\n",
    "                                                 if w not in stop_words]))\n",
    "    \n",
    "    df['n_first_person'] = df.text_clean.apply(lambda x:\n",
    "                                               sum([w in person_first\n",
    "                                                    for w in x.split()]))\n",
    "    df['n_second_person'] = df.text_clean.apply(lambda x:\n",
    "                                                sum([w in person_second\n",
    "                                                     for w in x.split()]))\n",
    "    df['n_third_person'] = df.text_clean.apply(lambda x:\n",
    "                                               sum([w in person_third\n",
    "                                                    for w in x.split()]))\n",
    "    \n",
    "    return df\n",
    "\n",
    "def flatten_words(list1d, get_unique=False):\n",
    "    qa = [s.split() for s in list1d]\n",
    "    if get_unique:\n",
    "        return sorted(list(set([w for sent in qa for w in sent])))\n",
    "    else:\n",
    "        return [w for sent in qa for w in sent]\n",
    "\n",
    "def tfidf_matrices(tr, te, col='text_clean'):\n",
    "    \"\"\"Returns tfidf matrices for both the\n",
    "    training and test DataFrames.\n",
    "    The matrices will have the same number of\n",
    "    columns, which represent unique words, but\n",
    "    not the same number of rows, which represent\n",
    "    samples.\n",
    "    \"\"\"\n",
    "    tr = tr.copy()\n",
    "    te = te.copy()\n",
    "    text = tr[col].values.tolist() + te[col].values.tolist()\n",
    "    vocab = flatten_words(text, get_unique=True)\n",
    "    tfidf = TfidfVectorizer(stop_words='english', vocabulary=vocab)\n",
    "    tr_matrix = tfidf.fit_transform(tr.text_clean)\n",
    "    te_matrix = tfidf.fit_transform(te.text_clean)\n",
    "    return tr_matrix, te_matrix\n",
    "\n",
    "def concat_tfidf(df, matrix):\n",
    "    df = df.copy()\n",
    "    df = pd.concat([df, pd.DataFrame(matrix.todense())], axis=1)\n",
    "    return df\n",
    "\n",
    "def jitter(values, sd=0.25):\n",
    "    \"\"\"Jitter points for use in a scatterplot.\"\"\"\n",
    "    return [np.random.normal(v, sd) for v in values]"
   ]
  },
  {
   "cell_type": "code",
   "execution_count": 4,
   "metadata": {
    "collapsed": true
   },
   "outputs": [],
   "source": [
    "person_first = ['i', 'we', 'me', 'us', 'my', 'mine', 'our', 'ours']\n",
    "person_second = ['you', 'your', 'yours']\n",
    "person_third = ['he', 'she', 'it', 'him', 'her', 'his', 'hers', 'its']"
   ]
  },
  {
   "cell_type": "markdown",
   "metadata": {},
   "source": [
    "### Data"
   ]
  },
  {
   "cell_type": "markdown",
   "metadata": {},
   "source": [
    "#### Load"
   ]
  },
  {
   "cell_type": "code",
   "execution_count": 5,
   "metadata": {
    "collapsed": true
   },
   "outputs": [],
   "source": [
    "training = pd.read_csv('../data/newtrain.csv')\n",
    "test = pd.read_csv('../data/newtest.csv')"
   ]
  },
  {
   "cell_type": "markdown",
   "metadata": {},
   "source": [
    "#### Clean"
   ]
  },
  {
   "cell_type": "code",
   "execution_count": 6,
   "metadata": {
    "collapsed": true
   },
   "outputs": [],
   "source": [
    "training['text_clean'] = clean_text(training, 'Text')\n",
    "test['text_clean'] = clean_text(test, 'Text')"
   ]
  },
  {
   "cell_type": "markdown",
   "metadata": {},
   "source": [
    "#### Features"
   ]
  },
  {
   "cell_type": "code",
   "execution_count": 7,
   "metadata": {
    "collapsed": true
   },
   "outputs": [],
   "source": [
    "training = features(training)\n",
    "test = features(test)"
   ]
  },
  {
   "cell_type": "markdown",
   "metadata": {},
   "source": [
    "#### Split the training data"
   ]
  },
  {
   "cell_type": "code",
   "execution_count": 8,
   "metadata": {
    "collapsed": false
   },
   "outputs": [],
   "source": [
    "train, dev = cross_validation.train_test_split(training, test_size=0.2, random_state=1868)"
   ]
  },
  {
   "cell_type": "code",
   "execution_count": 9,
   "metadata": {
    "collapsed": true
   },
   "outputs": [],
   "source": [
    "train = train.append(sample(train, n=800))"
   ]
  },
  {
   "cell_type": "code",
   "execution_count": 10,
   "metadata": {
    "collapsed": true
   },
   "outputs": [],
   "source": [
    "train.reset_index(drop=True, inplace=True)\n",
    "dev.reset_index(drop=True, inplace=True)"
   ]
  },
  {
   "cell_type": "markdown",
   "metadata": {},
   "source": [
    "#### tfidf"
   ]
  },
  {
   "cell_type": "code",
   "execution_count": 11,
   "metadata": {
    "collapsed": true
   },
   "outputs": [],
   "source": [
    "train_matrix, dev_matrix = tfidf_matrices(train, dev)"
   ]
  },
  {
   "cell_type": "markdown",
   "metadata": {},
   "source": [
    "#### Combine"
   ]
  },
  {
   "cell_type": "code",
   "execution_count": 12,
   "metadata": {
    "collapsed": true
   },
   "outputs": [],
   "source": [
    "train = concat_tfidf(train, train_matrix)\n",
    "dev = concat_tfidf(dev, dev_matrix)"
   ]
  },
  {
   "cell_type": "markdown",
   "metadata": {},
   "source": [
    "### Training"
   ]
  },
  {
   "cell_type": "code",
   "execution_count": 13,
   "metadata": {
    "collapsed": true
   },
   "outputs": [],
   "source": [
    "svm = LinearSVC(dual=False, max_iter=5000)"
   ]
  },
  {
   "cell_type": "code",
   "execution_count": 14,
   "metadata": {
    "collapsed": true
   },
   "outputs": [],
   "source": [
    "features = train.columns[3:]\n",
    "X = train[features].values\n",
    "y = train['Category'].values\n",
    "features_dev = dev[features].values"
   ]
  },
  {
   "cell_type": "markdown",
   "metadata": {},
   "source": [
    "### Testing on `dev`"
   ]
  },
  {
   "cell_type": "code",
   "execution_count": 15,
   "metadata": {
    "collapsed": true
   },
   "outputs": [],
   "source": [
    "svm.fit(X, y)\n",
    "dev_predicted = svm.predict(features_dev)"
   ]
  },
  {
   "cell_type": "code",
   "execution_count": 16,
   "metadata": {
    "collapsed": false
   },
   "outputs": [
    {
     "data": {
      "text/plain": [
       "0.57407407407407407"
      ]
     },
     "execution_count": 16,
     "metadata": {},
     "output_type": "execute_result"
    }
   ],
   "source": [
    "accuracy_score(dev.Category, dev_predicted)"
   ]
  },
  {
   "cell_type": "code",
   "execution_count": 17,
   "metadata": {
    "collapsed": false
   },
   "outputs": [
    {
     "data": {
      "text/plain": [
       "<matplotlib.text.Text at 0x10f739160>"
      ]
     },
     "execution_count": 17,
     "metadata": {},
     "output_type": "execute_result"
    },
    {
     "data": {
      "image/png": "[encoded data removed]",
      "text/plain": [
       "<matplotlib.figure.Figure at 0x1083560f0>"
      ]
     },
     "metadata": {},
     "output_type": "display_data"
    }
   ],
   "source": [
    "plt.figure(figsize=(6, 5))\n",
    "\n",
    "plt.scatter(jitter(dev.Category, 0.15),\n",
    "            jitter(dev_predicted, 0.15),\n",
    "            color='#348ABD', alpha=0.25)\n",
    "\n",
    "plt.title('Support Vector Classifier\\n')\n",
    "plt.xlabel('Ground Truth')\n",
    "plt.ylabel('Predicted')"
   ]
  },
  {
   "cell_type": "markdown",
   "metadata": {},
   "source": [
    "### Test Data"
   ]
  },
  {
   "cell_type": "code",
   "execution_count": 18,
   "metadata": {
    "collapsed": true
   },
   "outputs": [],
   "source": [
    "training = training.append(sample(training, n=1200))\n",
    "training.reset_index(drop=True, inplace=True)"
   ]
  },
  {
   "cell_type": "code",
   "execution_count": 19,
   "metadata": {
    "collapsed": true
   },
   "outputs": [],
   "source": [
    "training_matrix, test_matrix = tfidf_matrices(training, test)"
   ]
  },
  {
   "cell_type": "code",
   "execution_count": 20,
   "metadata": {
    "collapsed": true
   },
   "outputs": [],
   "source": [
    "training = concat_tfidf(training, training_matrix)\n",
    "test = concat_tfidf(test, test_matrix)"
   ]
  },
  {
   "cell_type": "code",
   "execution_count": 21,
   "metadata": {
    "collapsed": true
   },
   "outputs": [],
   "source": [
    "features = training.columns[3:]\n",
    "X = training[features].values\n",
    "y = training['Category'].values\n",
    "features_test = test[features].values"
   ]
  },
  {
   "cell_type": "code",
   "execution_count": 22,
   "metadata": {
    "collapsed": true
   },
   "outputs": [],
   "source": [
    "svm.fit(X, y)\n",
    "test_predicted = svm.predict(features_test)"
   ]
  },
  {
   "cell_type": "code",
   "execution_count": 23,
   "metadata": {
    "collapsed": true
   },
   "outputs": [],
   "source": [
    "test['Category'] = test_predicted\n",
    "output = test[['Id', 'Category']]"
   ]
  },
  {
   "cell_type": "code",
   "execution_count": null,
   "metadata": {
    "collapsed": true
   },
   "outputs": [],
   "source": []
  }
 ],
 "metadata": {
  "kernelspec": {
   "display_name": "Python 3",
   "language": "python",
   "name": "python3"
  },
  "language_info": {
   "codemirror_mode": {
    "name": "ipython",
    "version": 3
   },
   "file_extension": ".py",
   "mimetype": "text/x-python",
   "name": "python",
   "nbconvert_exporter": "python",
   "pygments_lexer": "ipython3",
   "version": "3.4.2"
  }
 },
 "nbformat": 4,
 "nbformat_minor": 0
}
