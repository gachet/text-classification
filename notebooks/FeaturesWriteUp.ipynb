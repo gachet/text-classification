{
 "cells": [
  {
   "cell_type": "markdown",
   "metadata": {},
   "source": [
    "##Features We Tried But Did not Include\n",
    "\n",
    "Unigram_feature: This feature was used to check for the occurrence of certain unigrams just as in John's SciKit Learn Notebook. We used it initially to check for the most frequent words of each category of differing amounts. Using 500 most frequent words of each category performed the best. However this performance was outstipped by a simple tfidf and in combination only lowered the score.\n",
    "\n",
    "numeric_feature:\n",
    "The goal of this feature was to check if a certain question used numbers. The idea lay in that certain categories such as math would use numbers more than categories such as entertainment. In practice it did not work out that well.\n",
    "\n",
    "Similarity_Feature: Here we use wordnet's similarity to see how similar the words in the question are to the question's category. This performed quite poorly mostly I believe due to the fact that the similarity function is not that accurate.\n",
    "\n",
    "Pos_feature: We added a feature to count the number of a particular part of speech. We tested it with nouns, verbs, and adjectives. Interestingly the verbs performed the best. However in combination with the other features we chose it seemed to hurt the performance\n",
    "\n",
    "Median_Length Feature: Without tfidf including the length of the median word of a question greatly increased the categorization accuracy. However after using tfidf as a feature the median length only detracted from the score and since tfidf performed better we did not include it in the features.\n",
    "\n",
    "Names_Feature: This feature checked if a particular question contained a name. This worked better than counting the number of names. This is likely due to a lack of data. Overall the number of questions with names in the training set is small so you can get better classification by only making the feature return  "
   ]
  },
  {
   "cell_type": "code",
   "execution_count": null,
   "metadata": {
    "collapsed": true
   },
   "outputs": [],
   "source": [
    "def unigram_feature(x, unigrams):\n",
    "    word_list = x.lower().split(\" \")\n",
    "    count = 0\n",
    "    for unigram in unigrams:\n",
    "        count += word_list.count(unigram)\n",
    "    return count\n",
    "def numeric_feature(x):\n",
    "    count = 0\n",
    "    for c in x:\n",
    "        if x.isnumeric():\n",
    "            count += 1\n",
    "    return count\n",
    "def similarity_feature(x, word):\n",
    "    word_list = x.lower().split(\" \")\n",
    "    similarity = 0\n",
    "    for w in word_list:\n",
    "        for s in wn.synsets(w, pos=wn.NOUN):\n",
    "            similarity = max(similarity, word.wup_similarity(s)) \n",
    "    return similarity\n",
    "def pos_feature(x, pos):\n",
    "    word_list = x.lower().split(\" \")\n",
    "    t = nltk.pos_tag(word_list)\n",
    "    count = 0\n",
    "    for w in t:\n",
    "        if w[1] == pos:\n",
    "                count+=1\n",
    "    return count\n",
    "def median_length_feature(x):\n",
    "    word_list = x.lower().split(\" \")\n",
    "    word_lengths = [len(w) for w in word_list]\n",
    "    word_lengths.sort()\n",
    "    return word_lengths[len(word_lengths)//2]\n",
    "allNames = [name.lower() for name in names.words()]\n",
    "def names_feature(x):\n",
    "    word_list = x.lower().split(\" \")\n",
    "    count = 0\n",
    "    for word in word_list:\n",
    "        if word in allNames:\n",
    "            count = 1\n",
    "    return count"
   ]
  }
 ],
 "metadata": {
  "kernelspec": {
   "display_name": "Python 3",
   "language": "python",
   "name": "python3"
  },
  "language_info": {
   "codemirror_mode": {
    "name": "ipython",
    "version": 3
   },
   "file_extension": ".py",
   "mimetype": "text/x-python",
   "name": "python",
   "nbconvert_exporter": "python",
   "pygments_lexer": "ipython3",
   "version": "3.3.5"
  }
 },
 "nbformat": 4,
 "nbformat_minor": 0
}
